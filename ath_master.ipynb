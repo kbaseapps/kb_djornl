{
 "cells": [
  {
   "cell_type": "code",
   "execution_count": 1,
   "id": "7f80b80e",
   "metadata": {},
   "outputs": [],
   "source": [
    "import sqlite3\n",
    "from math import isnan\n",
    "\n",
    "import pandas as pd"
   ]
  },
  {
   "cell_type": "code",
   "execution_count": 2,
   "id": "91cfc49f",
   "metadata": {},
   "outputs": [],
   "source": [
    "DATA_ROOT = \"../exascale_data\"\n",
    "con = sqlite3.connect(\"test.db\")"
   ]
  },
  {
   "cell_type": "code",
   "execution_count": 3,
   "id": "f95dcd3e",
   "metadata": {},
   "outputs": [
    {
     "data": {
      "text/html": [
       "<div>\n",
       "<style scoped>\n",
       "    .dataframe tbody tr th:only-of-type {\n",
       "        vertical-align: middle;\n",
       "    }\n",
       "\n",
       "    .dataframe tbody tr th {\n",
       "        vertical-align: top;\n",
       "    }\n",
       "\n",
       "    .dataframe thead th {\n",
       "        text-align: right;\n",
       "    }\n",
       "</style>\n",
       "<table border=\"1\" class=\"dataframe\">\n",
       "  <thead>\n",
       "    <tr style=\"text-align: right;\">\n",
       "      <th></th>\n",
       "      <th>GID</th>\n",
       "      <th>defline</th>\n",
       "      <th>symbols</th>\n",
       "      <th>names</th>\n",
       "      <th>KO_effect</th>\n",
       "      <th>GO</th>\n",
       "      <th>GOdesc</th>\n",
       "      <th>mapman_code</th>\n",
       "      <th>mapman_name</th>\n",
       "      <th>mapman_desc</th>\n",
       "    </tr>\n",
       "  </thead>\n",
       "  <tbody>\n",
       "    <tr>\n",
       "      <td>39814</td>\n",
       "      <td>AT4G09945</td>\n",
       "      <td>NaN</td>\n",
       "      <td>NaN</td>\n",
       "      <td>NaN</td>\n",
       "      <td>NaN</td>\n",
       "      <td>NaN</td>\n",
       "      <td>NaN</td>\n",
       "      <td>35.2</td>\n",
       "      <td>not assigned.unknown</td>\n",
       "      <td>long noncoding RNA</td>\n",
       "    </tr>\n",
       "    <tr>\n",
       "      <td>39815</td>\n",
       "      <td>AT4G09955</td>\n",
       "      <td>NaN</td>\n",
       "      <td>NaN</td>\n",
       "      <td>NaN</td>\n",
       "      <td>NaN</td>\n",
       "      <td>NaN</td>\n",
       "      <td>NaN</td>\n",
       "      <td>35.2</td>\n",
       "      <td>not assigned.unknown</td>\n",
       "      <td>Natural antisense transcript overlaps with AT4...</td>\n",
       "    </tr>\n",
       "    <tr>\n",
       "      <td>39816</td>\n",
       "      <td>AT4G09975</td>\n",
       "      <td>NaN</td>\n",
       "      <td>NaN</td>\n",
       "      <td>NaN</td>\n",
       "      <td>NaN</td>\n",
       "      <td>NaN</td>\n",
       "      <td>NaN</td>\n",
       "      <td>35.2</td>\n",
       "      <td>not assigned.unknown</td>\n",
       "      <td>Natural antisense transcript overlaps with AT4...</td>\n",
       "    </tr>\n",
       "    <tr>\n",
       "      <td>39817</td>\n",
       "      <td>AT4G09985</td>\n",
       "      <td>NaN</td>\n",
       "      <td>NaN</td>\n",
       "      <td>NaN</td>\n",
       "      <td>NaN</td>\n",
       "      <td>NaN</td>\n",
       "      <td>NaN</td>\n",
       "      <td>35.2</td>\n",
       "      <td>not assigned.unknown</td>\n",
       "      <td>Natural antisense transcript overlaps with AT4...</td>\n",
       "    </tr>\n",
       "    <tr>\n",
       "      <td>39818</td>\n",
       "      <td>AT4G09995</td>\n",
       "      <td>NaN</td>\n",
       "      <td>NaN</td>\n",
       "      <td>NaN</td>\n",
       "      <td>NaN</td>\n",
       "      <td>NaN</td>\n",
       "      <td>NaN</td>\n",
       "      <td>35.2</td>\n",
       "      <td>not assigned.unknown</td>\n",
       "      <td>long noncoding RNA</td>\n",
       "    </tr>\n",
       "  </tbody>\n",
       "</table>\n",
       "</div>"
      ],
      "text/plain": [
       "             GID defline symbols names KO_effect   GO GOdesc mapman_code  \\\n",
       "39814  AT4G09945     NaN     NaN   NaN       NaN  NaN    NaN        35.2   \n",
       "39815  AT4G09955     NaN     NaN   NaN       NaN  NaN    NaN        35.2   \n",
       "39816  AT4G09975     NaN     NaN   NaN       NaN  NaN    NaN        35.2   \n",
       "39817  AT4G09985     NaN     NaN   NaN       NaN  NaN    NaN        35.2   \n",
       "39818  AT4G09995     NaN     NaN   NaN       NaN  NaN    NaN        35.2   \n",
       "\n",
       "                mapman_name                                        mapman_desc  \n",
       "39814  not assigned.unknown                                 long noncoding RNA  \n",
       "39815  not assigned.unknown  Natural antisense transcript overlaps with AT4...  \n",
       "39816  not assigned.unknown  Natural antisense transcript overlaps with AT4...  \n",
       "39817  not assigned.unknown  Natural antisense transcript overlaps with AT4...  \n",
       "39818  not assigned.unknown                                 long noncoding RNA  "
      ]
     },
     "execution_count": 3,
     "metadata": {},
     "output_type": "execute_result"
    }
   ],
   "source": [
    "filename = \"Ath_master_annotation_v01.txt\"\n",
    "path = f\"{DATA_ROOT}/prerelease/node_tables/{filename}\"\n",
    "df = pd.read_csv(path, sep=\"\\t\")\n",
    "df.tail()"
   ]
  },
  {
   "cell_type": "code",
   "execution_count": 4,
   "id": "14656f64-ab7f-48bf-a3a0-7ef5b5731fdb",
   "metadata": {},
   "outputs": [],
   "source": [
    "table_name = \"nodes_ath\"\n",
    "df.to_sql(table_name, con, if_exists=\"replace\")"
   ]
  },
  {
   "cell_type": "code",
   "execution_count": 5,
   "id": "8dd753d2-4fc9-499e-aaa2-b1000cd18e02",
   "metadata": {},
   "outputs": [
    {
     "data": {
      "text/html": [
       "<div>\n",
       "<style scoped>\n",
       "    .dataframe tbody tr th:only-of-type {\n",
       "        vertical-align: middle;\n",
       "    }\n",
       "\n",
       "    .dataframe tbody tr th {\n",
       "        vertical-align: top;\n",
       "    }\n",
       "\n",
       "    .dataframe thead th {\n",
       "        text-align: right;\n",
       "    }\n",
       "</style>\n",
       "<table border=\"1\" class=\"dataframe\">\n",
       "  <thead>\n",
       "    <tr style=\"text-align: right;\">\n",
       "      <th></th>\n",
       "      <th>index</th>\n",
       "      <th>GID</th>\n",
       "      <th>defline</th>\n",
       "      <th>symbols</th>\n",
       "      <th>names</th>\n",
       "      <th>KO_effect</th>\n",
       "      <th>GO</th>\n",
       "      <th>GOdesc</th>\n",
       "      <th>mapman_code</th>\n",
       "      <th>mapman_name</th>\n",
       "      <th>mapman_desc</th>\n",
       "    </tr>\n",
       "  </thead>\n",
       "  <tbody>\n",
       "    <tr>\n",
       "      <td>0</td>\n",
       "      <td>0</td>\n",
       "      <td>AT1G01010</td>\n",
       "      <td>NAC domain containing protein 1</td>\n",
       "      <td>ANAC001 | NAC001 | NTL10</td>\n",
       "      <td>NAC domain containing protein 1 |</td>\n",
       "      <td>None</td>\n",
       "      <td>GO:0006355|GO:0000976|GO:0005634|GO:0003700</td>\n",
       "      <td>regulation of transcription, DNA-templated|tra...</td>\n",
       "      <td>27.3.27</td>\n",
       "      <td>RNA.regulation of transcription.NAC domain tra...</td>\n",
       "      <td>NAC domain containing protein 1</td>\n",
       "    </tr>\n",
       "  </tbody>\n",
       "</table>\n",
       "</div>"
      ],
      "text/plain": [
       "   index        GID                          defline  \\\n",
       "0      0  AT1G01010  NAC domain containing protein 1   \n",
       "\n",
       "                    symbols                              names KO_effect  \\\n",
       "0  ANAC001 | NAC001 | NTL10  NAC domain containing protein 1 |      None   \n",
       "\n",
       "                                            GO  \\\n",
       "0  GO:0006355|GO:0000976|GO:0005634|GO:0003700   \n",
       "\n",
       "                                              GOdesc mapman_code  \\\n",
       "0  regulation of transcription, DNA-templated|tra...     27.3.27   \n",
       "\n",
       "                                         mapman_name  \\\n",
       "0  RNA.regulation of transcription.NAC domain tra...   \n",
       "\n",
       "                       mapman_desc  \n",
       "0  NAC domain containing protein 1  "
      ]
     },
     "execution_count": 5,
     "metadata": {},
     "output_type": "execute_result"
    }
   ],
   "source": [
    "pd.read_sql(f\"\"\"select * from \"{table_name}\" limit 1 \"\"\", con)"
   ]
  },
  {
   "cell_type": "code",
   "execution_count": 6,
   "id": "53c6eb36-aea3-4ea0-8bc7-3ab9d779cef4",
   "metadata": {},
   "outputs": [],
   "source": [
    "#con.close()"
   ]
  },
  {
   "cell_type": "code",
   "execution_count": 7,
   "id": "85188292",
   "metadata": {},
   "outputs": [
    {
     "data": {
      "text/plain": [
       "False"
      ]
     },
     "execution_count": 7,
     "metadata": {},
     "output_type": "execute_result"
    }
   ],
   "source": [
    "isinstance(float('nan'), str) and float(\"asdf\")"
   ]
  },
  {
   "cell_type": "code",
   "execution_count": 8,
   "id": "b2b5a81c",
   "metadata": {},
   "outputs": [
    {
     "data": {
      "text/plain": [
       "{True}"
      ]
     },
     "execution_count": 8,
     "metadata": {},
     "output_type": "execute_result"
    }
   ],
   "source": [
    "set([\n",
    "    (len(go.split(\"|\")) == len(godesc.split(\"|\")))\n",
    "    if isinstance(go, str) else go\n",
    "    for go, godesc in df[[\"GO\", \"GOdesc\"]].values\n",
    "    if not (isinstance(go, float) and isnan(float(go)))\n",
    "])"
   ]
  },
  {
   "cell_type": "code",
   "execution_count": 14,
   "id": "966f960c-cc05-40a8-bbbf-1fd643805f67",
   "metadata": {},
   "outputs": [
    {
     "data": {
      "text/plain": [
       "1974"
      ]
     },
     "execution_count": 14,
     "metadata": {},
     "output_type": "execute_result"
    }
   ],
   "source": [
    "# How many nodes have a different number of symbols and names?\n",
    "# This is much greater than 1, so they are probably not correlated.\n",
    "len(set([\n",
    "    (symbols, names)\n",
    "    if (\n",
    "            len(symbols.split(\"|\")) != len(names.split(\"|\"))\n",
    "            if isinstance(symbols, str) else\n",
    "            symbols\n",
    "        ) else\n",
    "    True\n",
    "    for symbols, names in df[[\"symbols\", \"names\"]].values\n",
    "    if not (isinstance(names, float) and isnan(float(names)))\n",
    "])) - 1 # ignore the ones with the same number of symbols and names"
   ]
  },
  {
   "cell_type": "code",
   "execution_count": 10,
   "id": "a3fbb4f5",
   "metadata": {},
   "outputs": [
    {
     "name": "stdout",
     "output_type": "stream",
     "text": [
      "CPU times: user 21.3 s, sys: 107 ms, total: 21.4 s\n",
      "Wall time: 21.4 s\n"
     ]
    }
   ],
   "source": [
    "%%time\n",
    "godict = dict()\n",
    "gotuples = sorted(sum([\n",
    "    tuple(zip(go.split(\"|\"), godesc.split(\"|\")))\n",
    "    for go, godesc in df[[\"GO\", \"GOdesc\"]].values\n",
    "    if not (isinstance(go, float) and isnan(float(go)))\n",
    "], ()))\n",
    "for go_, godesc_ in gotuples:\n",
    "    if go_ not in godict:\n",
    "        godict[go_] = godesc_\n",
    "        continue\n",
    "    assert godict[go_] == godesc_"
   ]
  },
  {
   "cell_type": "code",
   "execution_count": 11,
   "id": "bacd03f3",
   "metadata": {},
   "outputs": [
    {
     "data": {
      "text/plain": [
       "(('GO:0000002', 'mitochondrial genome maintenance'),\n",
       " ('GO:0000003', 'reproduction'),\n",
       " ('GO:0000009', 'alpha-1,6-mannosyltransferase activity'),\n",
       " ('GO:0000012', 'single strand break repair'),\n",
       " ('GO:0000014', 'single-stranded DNA endodeoxyribonuclease activity'))"
      ]
     },
     "execution_count": 11,
     "metadata": {},
     "output_type": "execute_result"
    }
   ],
   "source": [
    "tuple(godict.items())[:5]"
   ]
  },
  {
   "cell_type": "code",
   "execution_count": 12,
   "id": "08964896",
   "metadata": {},
   "outputs": [
    {
     "data": {
      "text/plain": [
       "True"
      ]
     },
     "execution_count": 12,
     "metadata": {},
     "output_type": "execute_result"
    }
   ],
   "source": [
    "isinstance(float('nan'), float)"
   ]
  },
  {
   "cell_type": "code",
   "execution_count": null,
   "id": "8c4ffc7e",
   "metadata": {},
   "outputs": [],
   "source": []
  }
 ],
 "metadata": {
  "kernelspec": {
   "display_name": "Python 3",
   "language": "python",
   "name": "python3"
  },
  "language_info": {
   "codemirror_mode": {
    "name": "ipython",
    "version": 3
   },
   "file_extension": ".py",
   "mimetype": "text/x-python",
   "name": "python",
   "nbconvert_exporter": "python",
   "pygments_lexer": "ipython3",
   "version": "3.7.4"
  }
 },
 "nbformat": 4,
 "nbformat_minor": 5
}
