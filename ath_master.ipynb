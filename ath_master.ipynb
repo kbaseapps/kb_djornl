{
 "cells": [
  {
   "cell_type": "code",
   "execution_count": 1,
   "id": "7f80b80e",
   "metadata": {},
   "outputs": [],
   "source": [
    "from math import isnan\n",
    "\n",
    "import pandas as pd"
   ]
  },
  {
   "cell_type": "code",
   "execution_count": 2,
   "id": "91cfc49f",
   "metadata": {},
   "outputs": [],
   "source": [
    "DATA_ROOT = \"../exascale_data\""
   ]
  },
  {
   "cell_type": "code",
   "execution_count": 3,
   "id": "f95dcd3e",
   "metadata": {},
   "outputs": [
    {
     "data": {
      "text/html": [
       "<div>\n",
       "<style scoped>\n",
       "    .dataframe tbody tr th:only-of-type {\n",
       "        vertical-align: middle;\n",
       "    }\n",
       "\n",
       "    .dataframe tbody tr th {\n",
       "        vertical-align: top;\n",
       "    }\n",
       "\n",
       "    .dataframe thead th {\n",
       "        text-align: right;\n",
       "    }\n",
       "</style>\n",
       "<table border=\"1\" class=\"dataframe\">\n",
       "  <thead>\n",
       "    <tr style=\"text-align: right;\">\n",
       "      <th></th>\n",
       "      <th>GID</th>\n",
       "      <th>defline</th>\n",
       "      <th>symbols</th>\n",
       "      <th>names</th>\n",
       "      <th>KO_effect</th>\n",
       "      <th>GO</th>\n",
       "      <th>GOdesc</th>\n",
       "      <th>mapman_code</th>\n",
       "      <th>mapman_name</th>\n",
       "      <th>mapman_desc</th>\n",
       "    </tr>\n",
       "  </thead>\n",
       "  <tbody>\n",
       "    <tr>\n",
       "      <th>39814</th>\n",
       "      <td>AT4G09945</td>\n",
       "      <td>NaN</td>\n",
       "      <td>NaN</td>\n",
       "      <td>NaN</td>\n",
       "      <td>NaN</td>\n",
       "      <td>NaN</td>\n",
       "      <td>NaN</td>\n",
       "      <td>35.2</td>\n",
       "      <td>not assigned.unknown</td>\n",
       "      <td>long noncoding RNA</td>\n",
       "    </tr>\n",
       "    <tr>\n",
       "      <th>39815</th>\n",
       "      <td>AT4G09955</td>\n",
       "      <td>NaN</td>\n",
       "      <td>NaN</td>\n",
       "      <td>NaN</td>\n",
       "      <td>NaN</td>\n",
       "      <td>NaN</td>\n",
       "      <td>NaN</td>\n",
       "      <td>35.2</td>\n",
       "      <td>not assigned.unknown</td>\n",
       "      <td>Natural antisense transcript overlaps with AT4...</td>\n",
       "    </tr>\n",
       "    <tr>\n",
       "      <th>39816</th>\n",
       "      <td>AT4G09975</td>\n",
       "      <td>NaN</td>\n",
       "      <td>NaN</td>\n",
       "      <td>NaN</td>\n",
       "      <td>NaN</td>\n",
       "      <td>NaN</td>\n",
       "      <td>NaN</td>\n",
       "      <td>35.2</td>\n",
       "      <td>not assigned.unknown</td>\n",
       "      <td>Natural antisense transcript overlaps with AT4...</td>\n",
       "    </tr>\n",
       "    <tr>\n",
       "      <th>39817</th>\n",
       "      <td>AT4G09985</td>\n",
       "      <td>NaN</td>\n",
       "      <td>NaN</td>\n",
       "      <td>NaN</td>\n",
       "      <td>NaN</td>\n",
       "      <td>NaN</td>\n",
       "      <td>NaN</td>\n",
       "      <td>35.2</td>\n",
       "      <td>not assigned.unknown</td>\n",
       "      <td>Natural antisense transcript overlaps with AT4...</td>\n",
       "    </tr>\n",
       "    <tr>\n",
       "      <th>39818</th>\n",
       "      <td>AT4G09995</td>\n",
       "      <td>NaN</td>\n",
       "      <td>NaN</td>\n",
       "      <td>NaN</td>\n",
       "      <td>NaN</td>\n",
       "      <td>NaN</td>\n",
       "      <td>NaN</td>\n",
       "      <td>35.2</td>\n",
       "      <td>not assigned.unknown</td>\n",
       "      <td>long noncoding RNA</td>\n",
       "    </tr>\n",
       "  </tbody>\n",
       "</table>\n",
       "</div>"
      ],
      "text/plain": [
       "             GID defline symbols names KO_effect   GO GOdesc mapman_code  \\\n",
       "39814  AT4G09945     NaN     NaN   NaN       NaN  NaN    NaN        35.2   \n",
       "39815  AT4G09955     NaN     NaN   NaN       NaN  NaN    NaN        35.2   \n",
       "39816  AT4G09975     NaN     NaN   NaN       NaN  NaN    NaN        35.2   \n",
       "39817  AT4G09985     NaN     NaN   NaN       NaN  NaN    NaN        35.2   \n",
       "39818  AT4G09995     NaN     NaN   NaN       NaN  NaN    NaN        35.2   \n",
       "\n",
       "                mapman_name                                        mapman_desc  \n",
       "39814  not assigned.unknown                                 long noncoding RNA  \n",
       "39815  not assigned.unknown  Natural antisense transcript overlaps with AT4...  \n",
       "39816  not assigned.unknown  Natural antisense transcript overlaps with AT4...  \n",
       "39817  not assigned.unknown  Natural antisense transcript overlaps with AT4...  \n",
       "39818  not assigned.unknown                                 long noncoding RNA  "
      ]
     },
     "execution_count": 3,
     "metadata": {},
     "output_type": "execute_result"
    }
   ],
   "source": [
    "df = pd.read_csv(f\"{DATA_ROOT}/prerelease/node_tables/Ath_master_annotation_v01.txt\", sep=\"\\t\")\n",
    "df.tail()"
   ]
  },
  {
   "cell_type": "code",
   "execution_count": 4,
   "id": "85188292",
   "metadata": {},
   "outputs": [
    {
     "data": {
      "text/plain": [
       "False"
      ]
     },
     "execution_count": 4,
     "metadata": {},
     "output_type": "execute_result"
    }
   ],
   "source": [
    "isinstance(float('nan'), str) and float(\"asdf\")"
   ]
  },
  {
   "cell_type": "code",
   "execution_count": 5,
   "id": "b2b5a81c",
   "metadata": {},
   "outputs": [
    {
     "data": {
      "text/plain": [
       "{True}"
      ]
     },
     "execution_count": 5,
     "metadata": {},
     "output_type": "execute_result"
    }
   ],
   "source": [
    "set([\n",
    "    (len(go.split(\"|\")) == len(godesc.split(\"|\")))\n",
    "    if isinstance(go, str) else go\n",
    "    for go, godesc in df[[\"GO\", \"GOdesc\"]].values\n",
    "    if not (isinstance(go, float) and isnan(float(go)))\n",
    "])"
   ]
  },
  {
   "cell_type": "code",
   "execution_count": 6,
   "id": "a3fbb4f5",
   "metadata": {},
   "outputs": [
    {
     "name": "stdout",
     "output_type": "stream",
     "text": [
      "CPU times: user 17.5 s, sys: 45.4 ms, total: 17.6 s\n",
      "Wall time: 17.5 s\n"
     ]
    }
   ],
   "source": [
    "%%time\n",
    "godict = dict()\n",
    "gotuples = sorted(sum([\n",
    "    tuple(zip(go.split(\"|\"), godesc.split(\"|\")))\n",
    "    for go, godesc in df[[\"GO\", \"GOdesc\"]].values\n",
    "    if not (isinstance(go, float) and isnan(float(go)))\n",
    "], ()))\n",
    "for go_, godesc_ in gotuples:\n",
    "    if go_ not in godict:\n",
    "        godict[go_] = godesc_\n",
    "        continue\n",
    "    assert godict[go_] == godesc_"
   ]
  },
  {
   "cell_type": "code",
   "execution_count": 7,
   "id": "bacd03f3",
   "metadata": {},
   "outputs": [
    {
     "data": {
      "text/plain": [
       "(('GO:0000002', 'mitochondrial genome maintenance'),\n",
       " ('GO:0000003', 'reproduction'),\n",
       " ('GO:0000009', 'alpha-1,6-mannosyltransferase activity'),\n",
       " ('GO:0000012', 'single strand break repair'),\n",
       " ('GO:0000014', 'single-stranded DNA endodeoxyribonuclease activity'))"
      ]
     },
     "execution_count": 7,
     "metadata": {},
     "output_type": "execute_result"
    }
   ],
   "source": [
    "tuple(godict.items())[:5]"
   ]
  },
  {
   "cell_type": "code",
   "execution_count": 8,
   "id": "08964896",
   "metadata": {},
   "outputs": [
    {
     "data": {
      "text/plain": [
       "True"
      ]
     },
     "execution_count": 8,
     "metadata": {},
     "output_type": "execute_result"
    }
   ],
   "source": [
    "isinstance(float('nan'), float)"
   ]
  },
  {
   "cell_type": "code",
   "execution_count": null,
   "id": "8c4ffc7e",
   "metadata": {},
   "outputs": [],
   "source": []
  }
 ],
 "metadata": {
  "kernelspec": {
   "display_name": "Python 3 (ipykernel)",
   "language": "python",
   "name": "python3"
  },
  "language_info": {
   "codemirror_mode": {
    "name": "ipython",
    "version": 3
   },
   "file_extension": ".py",
   "mimetype": "text/x-python",
   "name": "python",
   "nbconvert_exporter": "python",
   "pygments_lexer": "ipython3",
   "version": "3.7.11"
  }
 },
 "nbformat": 4,
 "nbformat_minor": 5
}
