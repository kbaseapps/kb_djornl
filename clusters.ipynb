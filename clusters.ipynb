{
 "cells": [
  {
   "cell_type": "code",
   "execution_count": 1,
   "metadata": {},
   "outputs": [],
   "source": [
    "import pandas as pd\n",
    "import sqlite3\n",
    "\n",
    "from collections import Counter"
   ]
  },
  {
   "cell_type": "code",
   "execution_count": 2,
   "metadata": {},
   "outputs": [],
   "source": [
    "con = sqlite3.connect(\":memory:\")"
   ]
  },
  {
   "cell_type": "code",
   "execution_count": 3,
   "metadata": {},
   "outputs": [],
   "source": [
    "nodes = pd.read_csv(\"../aranet2-aragwas-MERGED-AMW-v2_091319_nodeTable.csv\")\n",
    "nodes.to_sql(\"nodes\", con, if_exists=\"replace\")"
   ]
  },
  {
   "cell_type": "code",
   "execution_count": 4,
   "metadata": {},
   "outputs": [
    {
     "data": {
      "text/plain": [
       "(3102, 3693, 3634)"
      ]
     },
     "execution_count": 4,
     "metadata": {},
     "output_type": "execute_result"
    }
   ],
   "source": [
    "i2 = pd.read_csv(\"out.aranetv2_subnet_AT-CX_top10percent_anno_AF_082919.abc.I2_named.tsv\", delimiter=\"\\t\")\n",
    "i2.to_sql(\"i2\", con, if_exists=\"replace\")\n",
    "i4 = pd.read_csv(\"out.aranetv2_subnet_AT-CX_top10percent_anno_AF_082919.abc.I4_named.tsv\", delimiter=\"\\t\")\n",
    "i4.to_sql(\"i4\", con, if_exists=\"replace\")\n",
    "i6 = pd.read_csv(\"out.aranetv2_subnet_AT-CX_top10percent_anno_AF_082919.abc.I6_named.tsv\", delimiter=\"\\t\")\n",
    "i6.to_sql(\"i6\", con, if_exists=\"replace\")\n",
    "len(i2), len(i4), len(i6)"
   ]
  },
  {
   "cell_type": "code",
   "execution_count": 5,
   "metadata": {},
   "outputs": [
    {
     "data": {
      "text/plain": [
       "10236"
      ]
     },
     "execution_count": 5,
     "metadata": {},
     "output_type": "execute_result"
    }
   ],
   "source": [
    "nodes_in_cluster = [ids for ids in pd.read_sql(\"\"\"\n",
    "SELECT i2.node_ids\n",
    "FROM i2\n",
    "UNION ALL\n",
    "SELECT i4.node_ids\n",
    "FROM i4\n",
    "UNION ALL\n",
    "SELECT i6.node_ids\n",
    "FROM i6\n",
    "\"\"\", con)[\"node_ids\"]]\n",
    "\n",
    "len(set(sum([node_ids.split(\",\") for node_ids in nodes_in_cluster], [])))"
   ]
  },
  {
   "cell_type": "code",
   "execution_count": 6,
   "metadata": {},
   "outputs": [
    {
     "data": {
      "text/plain": [
       "10429"
      ]
     },
     "execution_count": 6,
     "metadata": {},
     "output_type": "execute_result"
    }
   ],
   "source": [
    "sum((3102, 3693, 3634))"
   ]
  },
  {
   "cell_type": "code",
   "execution_count": 7,
   "metadata": {},
   "outputs": [
    {
     "data": {
      "text/plain": [
       "('Cluster3102', 'AT1G54870,AT5G54740')"
      ]
     },
     "execution_count": 7,
     "metadata": {},
     "output_type": "execute_result"
    }
   ],
   "source": [
    "clusters = list(dict(pd.read_sql(\"\"\"\n",
    "SELECT cluster_id, node_ids\n",
    "FROM i2\n",
    "\"\"\", con).values).items())\n",
    "\n",
    "clusters[-1]"
   ]
  },
  {
   "cell_type": "code",
   "execution_count": 8,
   "metadata": {},
   "outputs": [
    {
     "data": {
      "text/html": [
       "<div>\n",
       "<style scoped>\n",
       "    .dataframe tbody tr th:only-of-type {\n",
       "        vertical-align: middle;\n",
       "    }\n",
       "\n",
       "    .dataframe tbody tr th {\n",
       "        vertical-align: top;\n",
       "    }\n",
       "\n",
       "    .dataframe thead th {\n",
       "        text-align: right;\n",
       "    }\n",
       "</style>\n",
       "<table border=\"1\" class=\"dataframe\">\n",
       "  <thead>\n",
       "    <tr style=\"text-align: right;\">\n",
       "      <th></th>\n",
       "      <th>node_id</th>\n",
       "      <th>GO_terms</th>\n",
       "    </tr>\n",
       "  </thead>\n",
       "  <tbody>\n",
       "    <tr>\n",
       "      <th>0</th>\n",
       "      <td>AT1G54870</td>\n",
       "      <td>GO:0016491, GO:0008106</td>\n",
       "    </tr>\n",
       "    <tr>\n",
       "      <th>1</th>\n",
       "      <td>AT5G54740</td>\n",
       "      <td>GO:0045735, GO:0008289</td>\n",
       "    </tr>\n",
       "  </tbody>\n",
       "</table>\n",
       "</div>"
      ],
      "text/plain": [
       "     node_id                GO_terms\n",
       "0  AT1G54870  GO:0016491, GO:0008106\n",
       "1  AT5G54740  GO:0045735, GO:0008289"
      ]
     },
     "execution_count": 8,
     "metadata": {},
     "output_type": "execute_result"
    }
   ],
   "source": [
    "pd.read_sql(\"\"\"\n",
    "SELECT node_id, \"GO_terms\"\n",
    "FROM nodes\n",
    "WHERE 1\n",
    "    AND INSTR('AT1G54870,AT5G54740', node_id) > 0\n",
    "\"\"\", con)"
   ]
  },
  {
   "cell_type": "code",
   "execution_count": 9,
   "metadata": {},
   "outputs": [
    {
     "data": {
      "text/html": [
       "<div>\n",
       "<style scoped>\n",
       "    .dataframe tbody tr th:only-of-type {\n",
       "        vertical-align: middle;\n",
       "    }\n",
       "\n",
       "    .dataframe tbody tr th {\n",
       "        vertical-align: top;\n",
       "    }\n",
       "\n",
       "    .dataframe thead th {\n",
       "        text-align: right;\n",
       "    }\n",
       "</style>\n",
       "<table border=\"1\" class=\"dataframe\">\n",
       "  <thead>\n",
       "    <tr style=\"text-align: right;\">\n",
       "      <th></th>\n",
       "      <th>GO_terms</th>\n",
       "    </tr>\n",
       "  </thead>\n",
       "  <tbody>\n",
       "    <tr>\n",
       "      <th>0</th>\n",
       "      <td>GO:0016491, GO:0008106</td>\n",
       "    </tr>\n",
       "    <tr>\n",
       "      <th>1</th>\n",
       "      <td>GO:0045735, GO:0008289</td>\n",
       "    </tr>\n",
       "  </tbody>\n",
       "</table>\n",
       "</div>"
      ],
      "text/plain": [
       "                 GO_terms\n",
       "0  GO:0016491, GO:0008106\n",
       "1  GO:0045735, GO:0008289"
      ]
     },
     "execution_count": 9,
     "metadata": {},
     "output_type": "execute_result"
    }
   ],
   "source": [
    "go_term_query = \"\"\"\n",
    "SELECT \"GO_terms\"\n",
    "FROM nodes\n",
    "WHERE 1\n",
    "    AND INSTR('{node_ids}', node_id) > 0\n",
    "\"\"\"\n",
    "\n",
    "def get_go_terms(node_ids):\n",
    "    return pd.read_sql(go_term_query.format(node_ids=node_ids), con)\n",
    "\n",
    "get_go_terms(clusters[-1][1])"
   ]
  },
  {
   "cell_type": "code",
   "execution_count": 13,
   "metadata": {},
   "outputs": [
    {
     "data": {
      "text/plain": [
       "([('GO:0003735', 183),\n",
       "  ('GO:0003729', 64),\n",
       "  ('GO:0003723', 35),\n",
       "  ('GO:0003674', 28),\n",
       "  ('GO:0005515', 27)],\n",
       " ('GO:0003735', 'GO:0003729', 'GO:0003723', 'GO:0003674', 'GO:0005515'))"
      ]
     },
     "execution_count": 13,
     "metadata": {},
     "output_type": "execute_result"
    }
   ],
   "source": [
    "cluster1_go_terms = get_go_terms(clusters[0][1])\n",
    "cluster1_go_terms_flat = sum([terms.split(\", \") for terms in list(cluster1_go_terms[\"GO_terms\"]) if terms], [])\n",
    "counts = Counter(cluster1_go_terms_flat)\n",
    "cluster1_go_terms_desc = next(zip(*counts.most_common()))\n",
    "counts.most_common(5), cluster1_go_terms_desc[:5]"
   ]
  },
  {
   "cell_type": "code",
   "execution_count": 19,
   "metadata": {},
   "outputs": [],
   "source": [
    "def go_terms_stats(node_ids):\n",
    "    go_terms_raw = get_go_terms(node_ids)\n",
    "    go_terms_flat = sum([terms.split(\", \") for terms in list(go_terms_raw[\"GO_terms\"]) if terms], [])\n",
    "    go_term_counts = Counter(go_terms_flat)\n",
    "    return go_term_counts.most_common()\n",
    "    \n",
    "def go_terms_by_cluster(clusters):\n",
    "    return {cluster_id: go_terms_stats(node_ids) for (cluster_id, node_ids) in clusters}"
   ]
  },
  {
   "cell_type": "code",
   "execution_count": 22,
   "metadata": {},
   "outputs": [
    {
     "data": {
      "text/plain": [
       "{'Cluster101': [('GO:0005524', 5),\n",
       "  ('GO:0051082', 5),\n",
       "  ('GO:0005515', 2),\n",
       "  ('GO:0042803', 1),\n",
       "  ('GO:0008270', 1),\n",
       "  ('GO:0008483', 1),\n",
       "  ('GO:0010285', 1),\n",
       "  ('GO:0030170', 1),\n",
       "  ('GO:0005507', 1),\n",
       "  ('GO:0042623', 1),\n",
       "  ('GO:0044183', 1),\n",
       "  ('GO:0051787', 1),\n",
       "  ('GO:0031072', 1),\n",
       "  ('GO:0016887', 1)]}"
      ]
     },
     "execution_count": 22,
     "metadata": {},
     "output_type": "execute_result"
    }
   ],
   "source": [
    "go_terms_by_cluster(clusters[100:101])"
   ]
  },
  {
   "cell_type": "code",
   "execution_count": 18,
   "metadata": {},
   "outputs": [
    {
     "data": {
      "text/plain": [
       "[('Cluster3102', 'AT1G54870,AT5G54740')]"
      ]
     },
     "execution_count": 18,
     "metadata": {},
     "output_type": "execute_result"
    }
   ],
   "source": [
    "clusters[-1:]"
   ]
  },
  {
   "cell_type": "code",
   "execution_count": null,
   "metadata": {},
   "outputs": [],
   "source": []
  }
 ],
 "metadata": {
  "kernelspec": {
   "display_name": "Python 3",
   "language": "python",
   "name": "python3"
  },
  "language_info": {
   "codemirror_mode": {
    "name": "ipython",
    "version": 3
   },
   "file_extension": ".py",
   "mimetype": "text/x-python",
   "name": "python",
   "nbconvert_exporter": "python",
   "pygments_lexer": "ipython3",
   "version": "3.7.8"
  }
 },
 "nbformat": 4,
 "nbformat_minor": 4
}
