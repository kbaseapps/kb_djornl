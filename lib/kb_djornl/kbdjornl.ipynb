{
 "cells": [
  {
   "cell_type": "code",
   "execution_count": 1,
   "id": "52b45e1c",
   "metadata": {},
   "outputs": [
    {
     "name": "stdout",
     "output_type": "stream",
     "text": [
      "/Users/dblair/TenSen/work/bnl/repos/kb_djornl\r\n"
     ]
    }
   ],
   "source": [
    "!pwd"
   ]
  },
  {
   "cell_type": "code",
   "execution_count": 2,
   "id": "f8a406b3",
   "metadata": {},
   "outputs": [
    {
     "name": "stdout",
     "output_type": "stream",
     "text": [
      "Defaulting to user installation because normal site-packages is not writeable\n",
      "\u001b[31mERROR: Could not open requirements file: [Errno 2] No such file or directory: '../../requirements.txt'\u001b[0m\n"
     ]
    }
   ],
   "source": [
    "!pip install --extra-index-url https://pypi.anaconda.org/kbase/simple -r ../../requirements.txt"
   ]
  },
  {
   "cell_type": "code",
   "execution_count": 3,
   "id": "82985047",
   "metadata": {},
   "outputs": [],
   "source": [
    "import os"
   ]
  },
  {
   "cell_type": "code",
   "execution_count": 4,
   "id": "caa5406e",
   "metadata": {},
   "outputs": [],
   "source": [
    "os.chdir(\"/Users/dblair/TenSen/work/bnl/repos/kb_djornl/lib\")\n",
    "os.environ[\"KB_AUTH_TOKEN\"] = \"\"\n",
    "os.environ[\"KBDJORNL_DATA_ROOT\"] = \"/Users/dblair/TenSen/work/bnl/repos/kb_djornl/test_local/refdata/exascale_data\""
   ]
  },
  {
   "cell_type": "code",
   "execution_count": 5,
   "id": "91b6a261",
   "metadata": {},
   "outputs": [
    {
     "data": {
      "text/plain": [
       "'/Users/dblair/TenSen/work/bnl/repos/kb_djornl/lib'"
      ]
     },
     "execution_count": 5,
     "metadata": {},
     "output_type": "execute_result"
    }
   ],
   "source": [
    "os.getcwd()"
   ]
  },
  {
   "cell_type": "code",
   "execution_count": 6,
   "id": "e5298553",
   "metadata": {},
   "outputs": [
    {
     "data": {
      "text/plain": [
       "''"
      ]
     },
     "execution_count": 6,
     "metadata": {},
     "output_type": "execute_result"
    }
   ],
   "source": [
    "os.environ.get(\"KB_AUTH_TOKEN\")"
   ]
  },
  {
   "cell_type": "code",
   "execution_count": 7,
   "id": "d0c614cb",
   "metadata": {},
   "outputs": [],
   "source": [
    "from kb_djornl import query_sqlite"
   ]
  },
  {
   "cell_type": "code",
   "execution_count": 9,
   "id": "59374c73",
   "metadata": {},
   "outputs": [
    {
     "data": {
      "text/plain": [
       "{'_id': 'djornl_node/AT2G18790',\n",
       " 'go_terms': ['GO:0000155',\n",
       "  'GO:0004673',\n",
       "  'GO:0005515',\n",
       "  'GO:0005634',\n",
       "  'GO:0005829',\n",
       "  'GO:0005886',\n",
       "  'GO:0006325',\n",
       "  'GO:0009266',\n",
       "  'GO:0009409',\n",
       "  'GO:0009584',\n",
       "  'GO:0009630',\n",
       "  'GO:0009638',\n",
       "  'GO:0009640',\n",
       "  'GO:0009649',\n",
       "  'GO:0009687',\n",
       "  'GO:0009867',\n",
       "  'GO:0009883',\n",
       "  'GO:0010029',\n",
       "  'GO:0010148',\n",
       "  'GO:0010161',\n",
       "  'GO:0010202',\n",
       "  'GO:0010218',\n",
       "  'GO:0010244',\n",
       "  'GO:0010374',\n",
       "  'GO:0010617',\n",
       "  'GO:0015979',\n",
       "  'GO:0016604',\n",
       "  'GO:0017012',\n",
       "  'GO:0031347',\n",
       "  'GO:0031516',\n",
       "  'GO:0031517',\n",
       "  'GO:0042802',\n",
       "  'GO:0042803',\n",
       "  'GO:0043565',\n",
       "  'GO:0045892',\n",
       "  'GO:1990841',\n",
       "  'GO:2000028'],\n",
       " 'mapman_infos': [{'transcript': 'AT2G18790.1',\n",
       "   'bin': '26.1.1.1',\n",
       "   'name': '.External stimuli response.light.red/far red light.phytochrome photoreceptor (PHY)',\n",
       "   'description': 'phytochrome photoreceptor (PHY) (original description: pep chromosome:TAIR10:2:8139763:8144461:1 gene:AT2G18790 transcript:AT2G18790.1 gene_biotype:protein_coding transcript_biotype:protein_coding gene_symbol:PHYB description:Phytochrome [Source:UniProtKB/TrEMBL;Acc:A0A178W0V4])'},\n",
       "  {'transcript': 'AT2G18790.1',\n",
       "   'bin': '26.4.1.2',\n",
       "   'name': '.External stimuli response.temperature.sensing and signalling.temperature sensor protein (PHY-B)',\n",
       "   'description': 'temperature sensor protein (PHY-B) (original description: pep chromosome:TAIR10:2:8139763:8144461:1 gene:AT2G18790 transcript:AT2G18790.1 gene_biotype:protein_coding transcript_biotype:protein_coding gene_symbol:PHYB description:Phytochrome [Source:UniProtKB/TrEMBL;Acc:A0A178W0V4])'},\n",
       "  {'transcript': 'AT2G18790.2',\n",
       "   'bin': '26.1.1.1',\n",
       "   'name': '.External stimuli response.light.red/far red light.phytochrome photoreceptor (PHY)',\n",
       "   'description': 'phytochrome photoreceptor (PHY) (original description: pep chromosome:TAIR10:2:8139756:8144430:1 gene:AT2G18790 transcript:AT2G18790.2 gene_biotype:protein_coding transcript_biotype:protein_coding gene_symbol:PHYB description:Phytochrome [Source:UniProtKB/TrEMBL;Acc:A0A178W0V4])'},\n",
       "  {'transcript': 'AT2G18790.2',\n",
       "   'bin': '26.4.1.2',\n",
       "   'name': '.External stimuli response.temperature.sensing and signalling.temperature sensor protein (PHY-B)',\n",
       "   'description': 'temperature sensor protein (PHY-B) (original description: pep chromosome:TAIR10:2:8139756:8144430:1 gene:AT2G18790 transcript:AT2G18790.2 gene_biotype:protein_coding transcript_biotype:protein_coding gene_symbol:PHYB description:Phytochrome [Source:UniProtKB/TrEMBL;Acc:A0A178W0V4])'}],\n",
       " 'mapman_name': ['.External stimuli response.light.red/far red light.phytochrome photoreceptor (PHY)',\n",
       "  '.External stimuli response.temperature.sensing and signalling.temperature sensor protein (PHY-B)',\n",
       "  '.External stimuli response.light.red/far red light.phytochrome photoreceptor (PHY)',\n",
       "  '.External stimuli response.temperature.sensing and signalling.temperature sensor protein (PHY-B)'],\n",
       " 'mapman_bin': ['26.1.1.1', '26.4.1.2', '26.1.1.1', '26.4.1.2']}"
      ]
     },
     "execution_count": 9,
     "metadata": {},
     "output_type": "execute_result"
    }
   ],
   "source": [
    "nodes, edges = query_sqlite(set(['AT2G34420']))\n",
    "[node for node in nodes if node[\"_id\"] == \"djornl_node/AT2G18790\"][0]"
   ]
  },
  {
   "cell_type": "code",
   "execution_count": null,
   "id": "b016dce1",
   "metadata": {},
   "outputs": [],
   "source": []
  }
 ],
 "metadata": {
  "kernelspec": {
   "display_name": "Python 3 (ipykernel)",
   "language": "python",
   "name": "python3"
  },
  "language_info": {
   "codemirror_mode": {
    "name": "ipython",
    "version": 3
   },
   "file_extension": ".py",
   "mimetype": "text/x-python",
   "name": "python",
   "nbconvert_exporter": "python",
   "pygments_lexer": "ipython3",
   "version": "3.7.11"
  }
 },
 "nbformat": 4,
 "nbformat_minor": 5
}
